{
 "cells": [
  {
   "cell_type": "code",
   "execution_count": null,
   "id": "1a019ea5-e7d5-4b6d-820d-2898294c3cfc",
   "metadata": {},
   "outputs": [],
   "source": [
    "import numpy as np \n",
    "import pandas as pd \n",
    "import matplotlib.pyplot as plt\n",
    "import seaborn as sns\n",
    "sns.set_style('darkgrid')"
   ]
  },
  {
   "cell_type": "code",
   "execution_count": null,
   "id": "5d8f0359-0c77-411a-8b51-c1ce5bb07090",
   "metadata": {},
   "outputs": [],
   "source": [
    "df = pd.read_csv(\"./data/IMDB Dataset.csv\")"
   ]
  },
  {
   "cell_type": "code",
   "execution_count": null,
   "id": "51c382f9-4385-4ede-b857-6e8207c94572",
   "metadata": {},
   "outputs": [],
   "source": [
    "df"
   ]
  },
  {
   "cell_type": "code",
   "execution_count": null,
   "id": "46aeb420-4377-45f3-b464-f04700fc1a67",
   "metadata": {},
   "outputs": [],
   "source": [
    "df.sample(5)"
   ]
  },
  {
   "cell_type": "code",
   "execution_count": null,
   "id": "ac5839a6-af9a-46fb-a21d-678377768ef1",
   "metadata": {},
   "outputs": [],
   "source": [
    "df_pos = df[df['sentiment']=='positive'][:5000]\n",
    "df_neg = df[df['sentiment']=='negative'][:5000]\n",
    "\n",
    "df_reviews = pd.concat([df_pos, df_neg ])"
   ]
  },
  {
   "cell_type": "code",
   "execution_count": null,
   "id": "90f831b4-4612-44f0-b25b-8aed43972099",
   "metadata": {},
   "outputs": [],
   "source": [
    "from sklearn.model_selection import train_test_split\n"
   ]
  },
  {
   "cell_type": "code",
   "execution_count": null,
   "id": "e482bfd1-3c39-42a3-b9f0-fe3ff1809866",
   "metadata": {},
   "outputs": [],
   "source": [
    "train,test = train_test_split(df_reviews,test_size =0.33,random_state=42)"
   ]
  },
  {
   "cell_type": "code",
   "execution_count": null,
   "id": "38765360-24a8-4c27-bdb2-5da205279b2d",
   "metadata": {},
   "outputs": [],
   "source": [
    "train_x, train_y = train['review'], train['sentiment']\n",
    "test_x, test_y = test['review'], test['sentiment']"
   ]
  },
  {
   "cell_type": "code",
   "execution_count": null,
   "id": "3e9c9de3-45b4-40cf-951a-d054ee27f2da",
   "metadata": {},
   "outputs": [],
   "source": [
    "train_y.value_counts()"
   ]
  },
  {
   "cell_type": "code",
   "execution_count": null,
   "id": "d16735e6-86a4-4865-9533-df4b4aeb6978",
   "metadata": {},
   "outputs": [],
   "source": [
    "from sklearn.feature_extraction.text import TfidfVectorizer"
   ]
  },
  {
   "cell_type": "code",
   "execution_count": null,
   "id": "41104799-9817-4394-815a-7ff6ea245e0a",
   "metadata": {},
   "outputs": [],
   "source": [
    "tfidf = TfidfVectorizer(stop_words='english')\n",
    "train_x_vector = tfidf.fit_transform(train_x)\n",
    "test_x_vector = tfidf.transform(test_x)"
   ]
  },
  {
   "cell_type": "code",
   "execution_count": null,
   "id": "99d1fc1c-f54b-4cc3-b928-727d0686efc8",
   "metadata": {},
   "outputs": [],
   "source": [
    "train_x.shape"
   ]
  },
  {
   "cell_type": "code",
   "execution_count": null,
   "id": "cd65b8ca-991d-4e7b-bef8-ec33f8b7aea1",
   "metadata": {},
   "outputs": [],
   "source": [
    "train_x_vector.shape"
   ]
  },
  {
   "cell_type": "code",
   "execution_count": null,
   "id": "c212092f-5020-4dad-91cf-1e70c4f2594b",
   "metadata": {},
   "outputs": [],
   "source": [
    "type(train_x_vector)"
   ]
  },
  {
   "cell_type": "code",
   "execution_count": null,
   "id": "c8ff70d8-ef5e-4817-95b1-2e8fa39463d1",
   "metadata": {},
   "outputs": [],
   "source": [
    "primera_resenia = pd.DataFrame.sparse.from_spmatrix(train_x_vector,\n",
    "                                  index=train_x.index,\n",
    "                                  columns=tfidf.get_feature_names_out()).iloc[0]"
   ]
  },
  {
   "cell_type": "code",
   "execution_count": null,
   "id": "16bc5a00-127b-4271-b5b0-4d22ff4806ca",
   "metadata": {},
   "outputs": [],
   "source": [
    "primera_resenia"
   ]
  },
  {
   "cell_type": "code",
   "execution_count": null,
   "id": "b11a2e60-fd92-4512-b7ad-84bab8695f92",
   "metadata": {},
   "outputs": [],
   "source": [
    "train_x.iloc[0]"
   ]
  },
  {
   "cell_type": "code",
   "execution_count": null,
   "id": "0e918562-96dc-417e-b7a3-59c9e1d6074c",
   "metadata": {},
   "outputs": [],
   "source": [
    "primera_resenia[primera_resenia != 0]"
   ]
  },
  {
   "cell_type": "code",
   "execution_count": null,
   "id": "fdf70250-e038-4cc6-83d3-d4fb82c0c009",
   "metadata": {},
   "outputs": [],
   "source": [
    "train_x.iloc[0]"
   ]
  },
  {
   "cell_type": "code",
   "execution_count": null,
   "id": "8c7491a8-c097-4950-843e-1ac61da6583f",
   "metadata": {},
   "outputs": [],
   "source": [
    "from sklearn.svm import SVC\n",
    "svc = SVC(kernel='linear')\n",
    "svc.fit(train_x_vector, train_y)"
   ]
  },
  {
   "cell_type": "code",
   "execution_count": null,
   "id": "bf2300d6-b1d6-4f14-89db-e596985c00c0",
   "metadata": {},
   "outputs": [],
   "source": [
    "print(svc.predict(tfidf.transform(['A good movie'])))\n",
    "print(svc.predict(tfidf.transform(['An excellent movie'])))\n",
    "print(svc.predict(tfidf.transform(['I did not like this movie at all I gave this movie away'])))"
   ]
  },
  {
   "cell_type": "code",
   "execution_count": null,
   "id": "e4782bf9-b420-4597-80e9-8b09636c411f",
   "metadata": {},
   "outputs": [],
   "source": [
    "print(svc.score(test_x_vector, test_y))"
   ]
  },
  {
   "cell_type": "code",
   "execution_count": null,
   "id": "d0c08f35-a89f-47a9-ab4d-ed79a8a9e2ae",
   "metadata": {},
   "outputs": [],
   "source": [
    "from sklearn.metrics import f1_score\n",
    "\n",
    "f1_score(test_y,svc.predict(test_x_vector),\n",
    "          labels = ['positive','negative'],average=None)"
   ]
  },
  {
   "cell_type": "code",
   "execution_count": null,
   "id": "1c37b774-6410-455a-a3f6-77b7e249bc17",
   "metadata": {},
   "outputs": [],
   "source": [
    "from sklearn.metrics import classification_report\n",
    "\n",
    "print(classification_report(test_y,\n",
    "                            svc.predict(test_x_vector),\n",
    "                            labels = ['positive','negative']))"
   ]
  },
  {
   "cell_type": "code",
   "execution_count": null,
   "id": "0f00a729-a788-42f6-acaf-7055d11b8951",
   "metadata": {},
   "outputs": [],
   "source": [
    "from sklearn.metrics import confusion_matrix\n",
    "\n",
    "conf_mat = confusion_matrix(test_y,\n",
    "                           svc.predict(test_x_vector),\n",
    "                           labels = ['positive', 'negative'])\n",
    "conf_mat"
   ]
  }
 ],
 "metadata": {
  "kernelspec": {
   "display_name": "Python 3 (ipykernel)",
   "language": "python",
   "name": "python3"
  },
  "language_info": {
   "codemirror_mode": {
    "name": "ipython",
    "version": 3
   },
   "file_extension": ".py",
   "mimetype": "text/x-python",
   "name": "python",
   "nbconvert_exporter": "python",
   "pygments_lexer": "ipython3",
   "version": "3.12.3"
  }
 },
 "nbformat": 4,
 "nbformat_minor": 5
}
